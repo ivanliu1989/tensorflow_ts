{
 "cells": [
  {
   "cell_type": "code",
   "execution_count": 2,
   "metadata": {},
   "outputs": [],
   "source": [
    "%matplotlib inline"
   ]
  },
  {
   "cell_type": "code",
   "execution_count": 3,
   "metadata": {
    "collapsed": true
   },
   "outputs": [],
   "source": [
    "import pandas as pd\n",
    "from os import listdir\n",
    "import matplotlib.pyplot as plt\n",
    "import numpy as np\n",
    "from sklearn.preprocessing import MinMaxScaler"
   ]
  },
  {
   "cell_type": "code",
   "execution_count": 4,
   "metadata": {},
   "outputs": [],
   "source": [
    "# Getting data\n",
    "listdir(\"./data\")\n",
    "data = pd.read_csv(\"./data/data_stocks.csv\")\n",
    "n, p = data.shape"
   ]
  },
  {
   "cell_type": "code",
   "execution_count": 5,
   "metadata": {},
   "outputs": [
    {
     "data": {
      "text/plain": [
       "[<matplotlib.lines.Line2D at 0x2bf637177f0>]"
      ]
     },
     "execution_count": 5,
     "metadata": {},
     "output_type": "execute_result"
    },
    {
     "data": {
      "image/png": "[encoded data removed]",
      "text/plain": [
       "<matplotlib.figure.Figure at 0x2bf6363ec50>"
      ]
     },
     "metadata": {},
     "output_type": "display_data"
    }
   ],
   "source": [
    "# Plot\n",
    "data.columns\n",
    "plt.plot(data.SP500)"
   ]
  },
  {
   "cell_type": "code",
   "execution_count": 6,
   "metadata": {},
   "outputs": [],
   "source": [
    "# Split training & test data\n",
    "train_start = 0\n",
    "train_end = int(np.floor(0.8*n))\n",
    "test_start = train_end + 1\n",
    "test_end = n\n",
    "data_train = data.iloc[np.arange(train_start, train_end), :]\n",
    "data_test = data.iloc[np.arange(test_start, test_end), :]"
   ]
  },
  {
   "cell_type": "code",
   "execution_count": 7,
   "metadata": {},
   "outputs": [
    {
     "data": {
      "text/plain": [
       "array([[ 1.00001146,  0.94704944,  0.70721143, ...,  0.99622356,\n         0.14394766,  0.79896014],\n       [ 1.00001718,  0.94587856,  0.70795163, ...,  0.99546828,\n         0.14285714,  0.79722704],\n       [ 1.00002291,  0.94789573,  0.7086845 , ...,  0.99622356,\n         0.14503817,  0.79722704],\n       ..., \n       [ 1.23942791,  0.9164764 ,  0.28655185, ...,  1.0347432 ,\n        -0.0436205 ,  0.89991334],\n       [ 1.23943363,  0.92597356,  0.28435324, ...,  1.03096677,\n        -0.04798255,  0.89515598],\n       [ 1.23943936,  0.92597356,  0.28655185, ...,  1.02945619,\n        -0.04525627,  0.89948007]])"
      ]
     },
     "execution_count": 7,
     "metadata": {},
     "output_type": "execute_result"
    }
   ],
   "source": [
    "# Data scaling\n",
    "scaler = MinMaxScaler()\n",
    "scaler.fit(data_train)\n",
    "scaler.transform(data_train)\n",
    "scaler.transform(data_test)"
   ]
  },
  {
   "cell_type": "code",
   "execution_count": 8,
   "metadata": {},
   "outputs": [],
   "source": [
    "# Dependent & Independent variables\n",
    "X_train = data_train.iloc[:, 2:]\n",
    "y_train = data_train.iloc[:, 1]\n",
    "X_test = data_test.iloc[:, 2:]\n",
    "y_test = data_test.iloc[:, 1]"
   ]
  },
  {
   "cell_type": "code",
   "execution_count": null,
   "metadata": {},
   "outputs": [],
   "source": []
  }
 ],
 "metadata": {
  "kernelspec": {
   "display_name": "Python 2",
   "language": "python",
   "name": "python2"
  },
  "language_info": {
   "codemirror_mode": {
    "name": "ipython",
    "version": 2
   },
   "file_extension": ".py",
   "mimetype": "text/x-python",
   "name": "python",
   "nbconvert_exporter": "python",
   "pygments_lexer": "ipython2",
   "version": "2.7.6"
  }
 },
 "nbformat": 4,
 "nbformat_minor": 0
}
